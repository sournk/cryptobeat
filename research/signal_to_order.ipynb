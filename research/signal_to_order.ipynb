{
 "cells": [
  {
   "cell_type": "code",
   "execution_count": 28,
   "metadata": {},
   "outputs": [
    {
     "name": "stdout",
     "output_type": "stream",
     "text": [
      "The autoreload extension is already loaded. To reload it, use:\n",
      "  %reload_ext autoreload\n",
      "AdviserPrediction(adviser='Test', dt=<class 'datetime.datetime'>, side='Buy', qty=100, open_adviser_list=[19.18], open_adviser=19.18, open_value=1918.0, sl_adviser_list=[18.609], sl_adviser=18.609, sl_roi=0.02977059436913443, sl_value=1860.9, loss=57.09999999999991, tp_adviser_list=[19.422, 19.854], tp_adviser=19.854, tp_roi=0.035140771637121926, tp_value=1985.3999999999999, profit=67.39999999999986, risk_profit=1.180385288966726)\n"
     ]
    },
    {
     "name": "stderr",
     "output_type": "stream",
     "text": [
      "[autoreload of advparser failed: Traceback (most recent call last):\n",
      "  File \"/Users/sournk/dev/cryptobeat/.venv/lib/python3.9/site-packages/IPython/extensions/autoreload.py\", line 273, in check\n",
      "    superreload(m, reload, self.old_objects)\n",
      "  File \"/Users/sournk/dev/cryptobeat/.venv/lib/python3.9/site-packages/IPython/extensions/autoreload.py\", line 471, in superreload\n",
      "    module = reload(module)\n",
      "  File \"/opt/homebrew/Cellar/python@3.9/3.9.13_1/Frameworks/Python.framework/Versions/3.9/lib/python3.9/importlib/__init__.py\", line 169, in reload\n",
      "    _bootstrap._exec(spec, module)\n",
      "  File \"<frozen importlib._bootstrap>\", line 613, in _exec\n",
      "  File \"<frozen importlib._bootstrap_external>\", line 846, in exec_module\n",
      "  File \"<frozen importlib._bootstrap_external>\", line 983, in get_code\n",
      "  File \"<frozen importlib._bootstrap_external>\", line 913, in source_to_code\n",
      "  File \"<frozen importlib._bootstrap>\", line 228, in _call_with_frames_removed\n",
      "  File \"/Users/sournk/dev/cryptobeat/research/advparser/__init__.py\", line 129\n",
      "    #         self.profit = abs(self.tp_value - self.open_value)\n",
      "                                                                ^\n",
      "IndentationError: expected an indented block\n",
      "]\n"
     ]
    }
   ],
   "source": [
    "%load_ext autoreload\n",
    "%autoreload\n",
    "\n",
    "import pprint\n",
    "from advparser import AdviserPrediction\n",
    "\n",
    "input = \"\"\"\n",
    "🎈 #LINK/USDT - LONG📈\n",
    "\n",
    "🟢 Открытие - 6.342-6.153\n",
    "\n",
    "✅ Цели - 1-6.411 2-6.475  3-6.529 4-6.611\n",
    "\n",
    "♾ - Плечо - х20 (Cross)\n",
    "\n",
    " 🔴 Стоп - 5.965\n",
    "\"\"\"\n",
    "\n",
    "input=\"\"\"\n",
    "SOL | USDT = LONG\n",
    "\n",
    "Точка входа: 19.180\n",
    "Тейк-профит: 19.422 | 19.854\n",
    "Кредитное плечо: 50x\n",
    "Стоп-лосс: 18.609\n",
    "\n",
    "    \"\"\"\n",
    "\n",
    "\n",
    "ap = AdviserPrediction('Test', input)\n",
    "ap.calc(100, 25)\n",
    "print(ap)\n",
    "\n",
    "\n",
    "\n"
   ]
  },
  {
   "cell_type": "code",
   "execution_count": null,
   "metadata": {},
   "outputs": [],
   "source": []
  }
 ],
 "metadata": {
  "kernelspec": {
   "display_name": ".venv",
   "language": "python",
   "name": "python3"
  },
  "language_info": {
   "codemirror_mode": {
    "name": "ipython",
    "version": 3
   },
   "file_extension": ".py",
   "mimetype": "text/x-python",
   "name": "python",
   "nbconvert_exporter": "python",
   "pygments_lexer": "ipython3",
   "version": "3.9.13"
  },
  "orig_nbformat": 4
 },
 "nbformat": 4,
 "nbformat_minor": 2
}
